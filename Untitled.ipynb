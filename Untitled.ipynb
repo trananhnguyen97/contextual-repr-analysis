{
 "cells": [
  {
   "cell_type": "code",
   "execution_count": 1,
   "metadata": {},
   "outputs": [],
   "source": [
    "import json\n",
    "import numpy as np\n",
    "import h5py\n",
    "\n",
    "with open(\"data/adposition_supersenses/adposition_supersense_tagging_sentences.txt\", \"r\") as f:\n",
    "    sentences = f.read().splitlines()\n",
    "    \n",
    "with open(\"contextualizers/bert_large_cased/adposition_supersense_tagging.json\") as json_file:\n",
    "    data = json.load(json_file)\n",
    "    \n",
    "data[0][\"linex_index\"] = data[0].pop(\"li,ex_index\")"
   ]
  },
  {
   "cell_type": "code",
   "execution_count": 2,
   "metadata": {},
   "outputs": [],
   "source": [
    "sentence_to_index = {}\n",
    "vectors = {}\n",
    "\n",
    "for i in range(len(data)):\n",
    "    sentence_to_index[sentences[i]] = str(data[i]['linex_index'])\n",
    "    token_features = data[i][\"features\"]\n",
    "    values = []\n",
    "    \n",
    "    for j in range(len(token_features)):\n",
    "        token = token_features[j]['token']\n",
    "        token_value = token_features[j]['layers'][0]['values']\n",
    "        \n",
    "        values.append(token_value)\n",
    "    vectors[str(i)] = np.asarray(values)"
   ]
  },
  {
   "cell_type": "code",
   "execution_count": 3,
   "metadata": {},
   "outputs": [],
   "source": [
    "def make_hdf5_file(sentence_to_index, vectors):\n",
    "    with h5py.File('contextualizers/bert_large_cased/adposition_supersense_tagging.hdf5', 'w') as fout:\n",
    "        for key, embeddings in vectors.items():\n",
    "            fout.create_dataset(\n",
    "                str(key),\n",
    "                embeddings.shape, dtype='float32',\n",
    "                data=embeddings)\n",
    "        sentence_index_dataset = fout.create_dataset(\n",
    "            \"sentence_to_index\",\n",
    "            (1,),\n",
    "            dtype=h5py.special_dtype(vlen=str))\n",
    "        sentence_index_dataset[0] = json.dumps(sentence_to_index)"
   ]
  },
  {
   "cell_type": "code",
   "execution_count": 4,
   "metadata": {},
   "outputs": [],
   "source": [
    "make_hdf5_file(sentence_to_index, vectors)"
   ]
  },
  {
   "cell_type": "code",
   "execution_count": null,
   "metadata": {},
   "outputs": [],
   "source": []
  }
 ],
 "metadata": {
  "kernelspec": {
   "display_name": "Python 3",
   "language": "python",
   "name": "python3"
  },
  "language_info": {
   "codemirror_mode": {
    "name": "ipython",
    "version": 3
   },
   "file_extension": ".py",
   "mimetype": "text/x-python",
   "name": "python",
   "nbconvert_exporter": "python",
   "pygments_lexer": "ipython3",
   "version": "3.7.3"
  }
 },
 "nbformat": 4,
 "nbformat_minor": 2
}
